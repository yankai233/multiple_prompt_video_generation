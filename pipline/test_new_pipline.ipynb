{
 "cells": [
  {
   "cell_type": "code",
   "id": "initial_id",
   "metadata": {
    "collapsed": true,
    "ExecuteTime": {
     "end_time": "2025-06-25T09:39:08.342225Z",
     "start_time": "2025-06-25T09:38:42.326641Z"
    }
   },
   "source": [
    "from new_pipline import CogVideoX_MultiPrompt_Pipeline\n",
    "\n",
    "\n",
    "model_id = '../../excluded_dir/local_model/model_dir'\n",
    "\n",
    "pipe = CogVideoX_MultiPrompt_Pipeline.from_pretrained_local(model_id, device='cuda', dtype='fp16')"
   ],
   "outputs": [],
   "execution_count": 1
  },
  {
   "metadata": {},
   "cell_type": "code",
   "outputs": [],
   "execution_count": null,
   "source": [
    "import torch\n",
    "\n",
    "\n",
    "pipe.vae.enable_slicing()\n",
    "pipe.vae.enable_tiling()\n",
    "pipe: CogVideoX_MultiPrompt_Pipeline = pipe.to('cuda')\n",
    "\n",
    "prompt = 'The scene is indoors with a view from above. The background is a beige carpet. A black bag is in the center of the scene.'\n",
    "past_prompts = ['The scene is indoors with a view from above. The background is a beige carpet. A black bag is in the center of the scene. Actor1 is holding the bag, and the bag is filled with objects. Actor1 opens the bag and says, \"Hey everybody, Nick here, and today I got a review for you of this little guy. Um, this is the silent pocket uh 20-liter pack. Um first off though, I want to thank very much Silent...',\n",
    "                'The scene is indoors with a view from above. The background is a beige carpet. A black bag is in the center of the scene. Actor1 says \"of course, here it is against your...']\n",
    "past_videos = ['/root/autodl-tmp/Ours/Multiple scene/test_dataset/videos/0-ggn3z52oU_76/split/The Silent Pocket 20 Liter Faraday Pack A Quick Shabazz Review-Scene-002.mp4',\n",
    "               '/root/autodl-tmp/Ours/Multiple scene/test_dataset/videos/0-ggn3z52oU_76/split/The Silent Pocket 20 Liter Faraday Pack A Quick Shabazz Review-Scene-004.mp4']\n",
    "\n",
    "output = pipe.generate_video(\n",
    "    save_video_path='./1.mp4',\n",
    "    fps=15, prompt=prompt,\n",
    "    past_prompts=past_prompts,\n",
    "    past_images=past_videos,\n",
    "    height=480,\n",
    "    width=720,\n",
    "    num_frames=49,\n",
    "    num_inference_steps=1,\n",
    "    guidance_scale=6.0,\n",
    "    image_guidance_scale=0.0,\n",
    "    use_dynamic_cfg=True,\n",
    "    generator=torch.Generator(device=\"cuda\").manual_seed(42))\n",
    "print(1)\n",
    "\n"
   ],
   "id": "e0b49d1b4a5c1aab"
  },
  {
   "metadata": {
    "ExecuteTime": {
     "end_time": "2025-06-26T01:22:32.439505Z",
     "start_time": "2025-06-26T01:22:24.368426Z"
    }
   },
   "cell_type": "code",
   "source": [
    "from Mutiple_prompt_mutiple_scene.utils import concat_videos\n",
    "\n",
    "concat_videos([r'E:\\PythonLearn\\work\\SSH_Connect\\Autodl\\under2postgraudate\\Video-Generation-field\\Ours\\Multiple scene\\excluded_dir\\output_dir\\inference\\3\\The Silent Pocket 20 Liter Faraday Pack A Quick Shabazz Review-Scene-002.mp4',r'E:\\PythonLearn\\work\\SSH_Connect\\Autodl\\under2postgraudate\\Video-Generation-field\\Ours\\Multiple scene\\excluded_dir\\output_dir\\inference\\3\\The Silent Pocket 20 Liter Faraday Pack A Quick Shabazz Review-Scene-004.mp4',r'E:\\PythonLearn\\work\\SSH_Connect\\Autodl\\under2postgraudate\\Video-Generation-field\\Ours\\Multiple scene\\excluded_dir\\output_dir\\inference\\3\\scene_3.mp4'], output_video_path=r'E:\\PythonLearn\\work\\SSH_Connect\\Autodl\\under2postgraudate\\Video-Generation-field\\Ours\\Multiple scene\\excluded_dir\\output_dir\\inference\\3\\result.mp4', fps=30)"
   ],
   "id": "8895a9fbd5c1220c",
   "outputs": [
    {
     "name": "stdout",
     "output_type": "stream",
     "text": [
      "MoviePy - Building video E:\\PythonLearn\\work\\SSH_Connect\\Autodl\\under2postgraudate\\Video-Generation-field\\Ours\\Multiple scene\\excluded_dir\\output_dir\\inference\\3\\result.mp4.\n",
      "MoviePy - Writing audio in resultTEMP_MPY_wvf_snd.mp3\n"
     ]
    },
    {
     "name": "stderr",
     "output_type": "stream",
     "text": [
      "                                                                   \r"
     ]
    },
    {
     "name": "stdout",
     "output_type": "stream",
     "text": [
      "MoviePy - Done.\n",
      "MoviePy - Writing video E:\\PythonLearn\\work\\SSH_Connect\\Autodl\\under2postgraudate\\Video-Generation-field\\Ours\\Multiple scene\\excluded_dir\\output_dir\\inference\\3\\result.mp4\n",
      "\n"
     ]
    },
    {
     "name": "stderr",
     "output_type": "stream",
     "text": [
      "                                                                         \r"
     ]
    },
    {
     "name": "stdout",
     "output_type": "stream",
     "text": [
      "MoviePy - Done !\n",
      "MoviePy - video ready E:\\PythonLearn\\work\\SSH_Connect\\Autodl\\under2postgraudate\\Video-Generation-field\\Ours\\Multiple scene\\excluded_dir\\output_dir\\inference\\3\\result.mp4\n"
     ]
    }
   ],
   "execution_count": 5
  },
  {
   "metadata": {
    "ExecuteTime": {
     "end_time": "2025-06-26T01:32:38.451950Z",
     "start_time": "2025-06-26T01:32:37.949316Z"
    }
   },
   "cell_type": "code",
   "source": [
    "import cv2\n",
    "import imageio\n",
    "\n",
    "\n",
    "def mp4_to_gif(mp4_path, gif_path, fps=10):\n",
    "    \"\"\"\n",
    "    将 MP4 文件转换为 GIF 文件\n",
    "    :param mp4_path: MP4 文件的路径\n",
    "    :param gif_path: 生成的 GIF 文件的路径\n",
    "    :param fps: GIF 的帧率，默认为 10\n",
    "    \"\"\"\n",
    "    # 打开 MP4 视频文件\n",
    "    cap = cv2.VideoCapture(mp4_path)\n",
    "    frames = []\n",
    "\n",
    "    while cap.isOpened():\n",
    "        ret, frame = cap.read()\n",
    "        if ret:\n",
    "            # OpenCV 默认以 BGR 格式读取帧，需要转换为 RGB 格式\n",
    "            frame = cv2.cvtColor(frame, cv2.COLOR_BGR2RGB)\n",
    "            frames.append(frame)\n",
    "        else:\n",
    "            break\n",
    "\n",
    "    # 释放视频捕获对象\n",
    "    cap.release()\n",
    "\n",
    "    if frames:\n",
    "        # 使用 imageio 保存为 GIF 文件，并设置循环参数\n",
    "        imageio.mimsave(gif_path, frames, fps=fps, loop=0)\n",
    "        print(f\"成功将 {mp4_path} 转换为 {gif_path}。\")\n",
    "    else:\n",
    "        print(f\"未从 {mp4_path} 中读取到有效帧。\")\n",
    "\n",
    "\n",
    "# 使用示例\n",
    "mp4_file = r'E:\\PythonLearn\\work\\SSH_Connect\\Autodl\\under2postgraudate\\Video-Generation-field\\Ours\\Multiple scene\\excluded_dir\\output_dir\\inference\\1\\result.mp4.mp4'\n",
    "gif_file = r'E:\\PythonLearn\\work\\SSH_Connect\\Autodl\\under2postgraudate\\Video-Generation-field\\Ours\\Multiple scene\\excluded_dir\\output_dir\\inference\\1\\result.mp4.gif'\n",
    "\n",
    "# 调用函数进行转换\n",
    "mp4_to_gif(mp4_file, gif_file, fps=15)\n"
   ],
   "id": "9f31e11d3b1fae",
   "outputs": [
    {
     "name": "stdout",
     "output_type": "stream",
     "text": [
      "未从 E:\\PythonLearn\\work\\SSH_Connect\\Autodl\\under2postgraudate\\Video-Generation-field\\Ours\\Multiple scene\\excluded_dir\\output_dir\\inference\\1\\result.mp4.mp4 中读取到有效帧。\n"
     ]
    }
   ],
   "execution_count": 12
  },
  {
   "metadata": {},
   "cell_type": "code",
   "outputs": [],
   "execution_count": null,
   "source": "",
   "id": "b590636d1560354c"
  }
 ],
 "metadata": {
  "kernelspec": {
   "display_name": "Python 3",
   "language": "python",
   "name": "python3"
  },
  "language_info": {
   "codemirror_mode": {
    "name": "ipython",
    "version": 2
   },
   "file_extension": ".py",
   "mimetype": "text/x-python",
   "name": "python",
   "nbconvert_exporter": "python",
   "pygments_lexer": "ipython2",
   "version": "2.7.6"
  }
 },
 "nbformat": 4,
 "nbformat_minor": 5
}
