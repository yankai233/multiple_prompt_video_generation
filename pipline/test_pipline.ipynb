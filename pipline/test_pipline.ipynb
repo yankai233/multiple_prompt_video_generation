{
 "cells": [
  {
   "cell_type": "code",
   "execution_count": null,
   "id": "initial_id",
   "metadata": {
    "collapsed": true
   },
   "outputs": [],
   "source": [
    "import os\n",
    "import sys\n",
    "sys.path.append(os.path.join(os.getcwd(), '../../'))\n",
    "\n",
    "from transformers import T5EncoderModel, AutoTokenizer\n",
    "from transformers import CLIPVisionModelWithProjection\n",
    "from diffusers.models import AutoencoderKLCogVideoX, CogVideoXTransformer3DModel\n",
    "from diffusers.schedulers import CogVideoXDDIMScheduler, CogVideoXDPMScheduler\n",
    "from Mutiple_prompt_mutiple_scene.utils import load_feature_extractor_from_ckpt, load_transformer_multi_ti2v\n",
    "from Mutiple_prompt_mutiple_scene.Model.CogVideoX_ti2v import CogVideoXTransformer3D_TI2V\n",
    "\n",
    "from omegaconf import OmegaConf\n",
    "\n",
    "model_dir = '../../excluded_dir/local_model/model_dir'\n",
    "# 加载所有组件\n",
    "tokenizer = AutoTokenizer.from_pretrained(model_dir, subfolder=\"tokenizer\", local_files_only=True)\n",
    "text_encoder = T5EncoderModel.from_pretrained(\n",
    "    model_dir, subfolder=\"text_encoder\", local_files_only=True\n",
    ")\n",
    "# image encoder\n",
    "image_encoder = CLIPVisionModelWithProjection.from_pretrained(model_dir, subfolder='Clip4Clip', local_files_only=True)\n",
    "os.path.join(model_dir, 'feature_extractor', 'config.yaml')\n",
    "\n",
    "configs = OmegaConf.load(os.path.join(model_dir, 'feature_extractor', 'config.yaml')).model.Feature_Extraction_Module\n",
    "feature_extractor = load_feature_extractor_from_ckpt(configs, os.path.join(model_dir, 'feature_extractor', 'feature_extraction_model_last.pth'))\n",
    "\n",
    "# TODO: 将transformer的所有参数都传入config中,供pipline使用\n",
    "transformer = CogVideoXTransformer3D_TI2V.from_pretrained(model_dir, subfolder='transformer', local_files_only=True)\n",
    "scheduler = CogVideoXDPMScheduler.from_pretrained(model_dir, subfolder=\"scheduler\", local_files_only=True)\n",
    "vae = AutoencoderKLCogVideoX.from_pretrained(model_dir, subfolder=\"vae\", local_files_only=True)\n",
    "\n",
    "print('加载所有组件完成')"
   ]
  },
  {
   "metadata": {},
   "cell_type": "code",
   "outputs": [],
   "execution_count": null,
   "source": [
    "from CogVideoX_Muti_Prompt_pipline import *\n",
    "\n",
    "\n",
    "pipe = CogVideoX_MultiPrompt_Pipeline(tokenizer=tokenizer, text_encoder=text_encoder, image_encoder=image_encoder, feature_extractor=feature_extractor, transformer=transformer,vae=vae, scheduler=scheduler)\n",
    "pipe.scheduler = CogVideoXDPMScheduler.from_config(\n",
    "        pipe.scheduler.config, timestep_spacing=\"trailing\"\n",
    "    )\n",
    "pipe.enable_sequential_cpu_offload()\n",
    "pipe.vae.enable_slicing()\n",
    "pipe.vae.enable_tiling()\n",
    "\n",
    "prompt = 'The scene is indoors with a view from above. The background is a beige carpet. A black bag is in the center of the scene.'\n",
    "past_prompts = ['The scene is indoors with a view from above. The background is a beige carpet. A black bag is in the center of the scene. Actor1 is holding the bag, and the bag is filled with objects. Actor1 opens the bag and says, \"Hey everybody, Nick here, and today I got a review for you of this little guy. Um, this is the silent pocket uh 20-liter pack. Um first off though, I want to thank very much Silent...',\n",
    "                'The scene is indoors with a view from above. The background is a beige carpet. A black bag is in the center of the scene. Actor1 says \"of course, here it is against your...']\n",
    "past_videos = ['/root/autodl-tmp/Ours/Multiple scene/test_dataset/videos/0-ggn3z52oU_76/split/The Silent Pocket 20 Liter Faraday Pack A Quick Shabazz Review-Scene-002.mp4',\n",
    "               '/root/autodl-tmp/Ours/Multiple scene/test_dataset/videos/0-ggn3z52oU_76/split/The Silent Pocket 20 Liter Faraday Pack A Quick Shabazz Review-Scene-004.mp4']\n",
    "output = pipe(prompt=prompt, past_prompts=past_prompts, past_images=past_videos,\n",
    "        height=480, width=720, num_frames=49,\n",
    "        num_inference_steps=50, guidance_scale=6.0, image_guidance_scale=6.0, use_dynamic_cfg=True)\n",
    "print(1)"
   ],
   "id": "9e793ebc7aece95c"
  }
 ],
 "metadata": {
  "kernelspec": {
   "display_name": "Python 3",
   "language": "python",
   "name": "python3"
  },
  "language_info": {
   "codemirror_mode": {
    "name": "ipython",
    "version": 2
   },
   "file_extension": ".py",
   "mimetype": "text/x-python",
   "name": "python",
   "nbconvert_exporter": "python",
   "pygments_lexer": "ipython2",
   "version": "2.7.6"
  }
 },
 "nbformat": 4,
 "nbformat_minor": 5
}
